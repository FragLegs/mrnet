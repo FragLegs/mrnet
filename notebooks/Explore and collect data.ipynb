{
 "cells": [
  {
   "cell_type": "markdown",
   "metadata": {},
   "source": [
    "I want to make two files that will allow me to build a model that is ready for the data on the MRNet collab. This means that one file will contain a list of image locations:\n",
    "\n",
    "```\n",
    "MRNet-v1.0/valid/sagittal/1130.npy\n",
    "MRNet-v1.0/valid/coronal/1130.npy\n",
    "MRNet-v1.0/valid/axial/1130.npy\n",
    "MRNet-v1.0/valid/sagittal/1131.npy\n",
    "MRNet-v1.0/valid/coronal/1131.npy\n",
    "MRNet-v1.0/valid/axial/1131.npy\n",
    "...\n",
    "```\n",
    "\n",
    "and the other file will contain label info and train/valid/test splits:\n",
    "\n",
    "```\n",
    "case,abnormal,ACL,meniscal,split\n",
    "1130.npy,0,0,0,train\n",
    "1131.npy,1,1,0,valid\n",
    "1132.npy,1,0,1,test\n",
    "...\n",
    "```\n",
    "\n",
    "The model interface will look like:\n",
    "\n",
    "### Training\n",
    "`python train.py model-name --rundir path-to-output-dir --label {abnormal,acl,meniscal,all} --series {axial,coronal,sagittal,all} --full`\n",
    "\n",
    "### Evaluate\n",
    "`python eval.py model-path --label {abnormal,acl,meniscal,all} --split {train,valid,test,all}`\n",
    "\n",
    "### Infer\n",
    "`python infer.py input-data-csv-filename output-prediction-csv-path -m model-path`"
   ]
  },
  {
   "cell_type": "code",
   "execution_count": 1,
   "metadata": {},
   "outputs": [],
   "source": [
    "import os"
   ]
  },
  {
   "cell_type": "code",
   "execution_count": 54,
   "metadata": {},
   "outputs": [],
   "source": [
    "data_path = '/domino/datasets/local/mrnet/MRNet-v1.0'\n",
    "image_paths = []\n",
    "for split in ['train', 'valid']:\n",
    "    split_folder = os.path.join(data_path, split)\n",
    "    for series in os.listdir(split_folder):\n",
    "        if series == '.DS_Store':\n",
    "            continue\n",
    "        series_folder = os.path.join(split_folder, series)\n",
    "        \n",
    "        for filename in os.listdir(series_folder):\n",
    "            if filename == '.DS_Store':\n",
    "                continue\n",
    "            image_paths.append(os.path.join(series_folder, filename))\n",
    "            \n",
    "with open('../mrnet-image-paths.csv', 'w') as fout:\n",
    "    fout.write('\\n'.join(image_paths))"
   ]
  },
  {
   "cell_type": "code",
   "execution_count": 55,
   "metadata": {},
   "outputs": [
    {
     "name": "stdout",
     "output_type": "stream",
     "text": [
      "/domino/datasets/local/mrnet/MRNet-v1.0/train/coronal/0173.npy\r\n",
      "/domino/datasets/local/mrnet/MRNet-v1.0/train/coronal/0335.npy\r\n",
      "/domino/datasets/local/mrnet/MRNet-v1.0/train/coronal/1064.npy\r\n",
      "/domino/datasets/local/mrnet/MRNet-v1.0/train/coronal/0254.npy\r\n",
      "/domino/datasets/local/mrnet/MRNet-v1.0/train/coronal/0092.npy\r\n",
      "/domino/datasets/local/mrnet/MRNet-v1.0/train/coronal/0416.npy\r\n",
      "/domino/datasets/local/mrnet/MRNet-v1.0/train/coronal/0731.npy\r\n",
      "/domino/datasets/local/mrnet/MRNet-v1.0/train/coronal/0650.npy\r\n",
      "/domino/datasets/local/mrnet/MRNet-v1.0/train/coronal/0812.npy\r\n",
      "/domino/datasets/local/mrnet/MRNet-v1.0/train/coronal/0533.npy\r\n"
     ]
    }
   ],
   "source": [
    "!head ../mrnet-image-paths.csv"
   ]
  },
  {
   "cell_type": "code",
   "execution_count": 56,
   "metadata": {},
   "outputs": [],
   "source": [
    "import pandas as pd\n",
    "import numpy as np"
   ]
  },
  {
   "cell_type": "code",
   "execution_count": 57,
   "metadata": {},
   "outputs": [],
   "source": [
    "def load_labels(split, diagnosis):\n",
    "    df = pd.read_csv(\n",
    "        os.path.join(data_path, '{}-{}.csv'.format(split, diagnosis)),\n",
    "        header=None,\n",
    "        names=['case', diagnosis],\n",
    "        dtype={'case': str, diagnosis: np.int}\n",
    "    )\n",
    "    df['split'] = split if split == 'train' else 'test'\n",
    "    \n",
    "    print(df.groupby(diagnosis).count())\n",
    "    print(df.head())\n",
    "    return df"
   ]
  },
  {
   "cell_type": "code",
   "execution_count": 58,
   "metadata": {},
   "outputs": [
    {
     "name": "stdout",
     "output_type": "stream",
     "text": [
      "          case  split\n",
      "abnormal             \n",
      "0          217    217\n",
      "1          913    913\n",
      "   case  abnormal  split\n",
      "0  0000         1  train\n",
      "1  0001         1  train\n",
      "2  0002         1  train\n",
      "3  0003         1  train\n",
      "4  0004         1  train\n"
     ]
    }
   ],
   "source": [
    "train_abnormal = load_labels('train', 'abnormal')"
   ]
  },
  {
   "cell_type": "code",
   "execution_count": 59,
   "metadata": {},
   "outputs": [
    {
     "name": "stdout",
     "output_type": "stream",
     "text": [
      "     case  split\n",
      "acl             \n",
      "0     922    922\n",
      "1     208    208\n",
      "   case  acl  split\n",
      "0  0000    0  train\n",
      "1  0001    1  train\n",
      "2  0002    0  train\n",
      "3  0003    0  train\n",
      "4  0004    0  train\n"
     ]
    }
   ],
   "source": [
    "train_acl = load_labels('train', 'acl')"
   ]
  },
  {
   "cell_type": "code",
   "execution_count": 60,
   "metadata": {},
   "outputs": [
    {
     "name": "stdout",
     "output_type": "stream",
     "text": [
      "          case  split\n",
      "meniscus             \n",
      "0          733    733\n",
      "1          397    397\n",
      "   case  meniscus  split\n",
      "0  0000         0  train\n",
      "1  0001         1  train\n",
      "2  0002         0  train\n",
      "3  0003         1  train\n",
      "4  0004         0  train\n"
     ]
    }
   ],
   "source": [
    "train_meniscus = load_labels('train', 'meniscus')"
   ]
  },
  {
   "cell_type": "code",
   "execution_count": 61,
   "metadata": {},
   "outputs": [
    {
     "name": "stdout",
     "output_type": "stream",
     "text": [
      "          case  split\n",
      "abnormal             \n",
      "0           25     25\n",
      "1           95     95\n",
      "   case  abnormal split\n",
      "0  1130         0  test\n",
      "1  1131         0  test\n",
      "2  1132         0  test\n",
      "3  1133         0  test\n",
      "4  1134         0  test\n"
     ]
    }
   ],
   "source": [
    "# Our test set will be what they are calling \"valid\" until we are ready to submit\n",
    "test_abnormal = load_labels('valid', 'abnormal')"
   ]
  },
  {
   "cell_type": "code",
   "execution_count": 62,
   "metadata": {},
   "outputs": [
    {
     "name": "stdout",
     "output_type": "stream",
     "text": [
      "     case  split\n",
      "acl             \n",
      "0      66     66\n",
      "1      54     54\n",
      "   case  acl split\n",
      "0  1130    0  test\n",
      "1  1131    0  test\n",
      "2  1132    0  test\n",
      "3  1133    0  test\n",
      "4  1134    0  test\n"
     ]
    }
   ],
   "source": [
    "test_acl = load_labels('valid', 'acl')"
   ]
  },
  {
   "cell_type": "code",
   "execution_count": 63,
   "metadata": {},
   "outputs": [
    {
     "name": "stdout",
     "output_type": "stream",
     "text": [
      "          case  split\n",
      "meniscus             \n",
      "0           68     68\n",
      "1           52     52\n",
      "   case  meniscus split\n",
      "0  1130         0  test\n",
      "1  1131         0  test\n",
      "2  1132         0  test\n",
      "3  1133         0  test\n",
      "4  1134         0  test\n"
     ]
    }
   ],
   "source": [
    "test_meniscus = load_labels('valid', 'meniscus')"
   ]
  },
  {
   "cell_type": "code",
   "execution_count": 64,
   "metadata": {},
   "outputs": [
    {
     "data": {
      "text/html": [
       "<div>\n",
       "<style scoped>\n",
       "    .dataframe tbody tr th:only-of-type {\n",
       "        vertical-align: middle;\n",
       "    }\n",
       "\n",
       "    .dataframe tbody tr th {\n",
       "        vertical-align: top;\n",
       "    }\n",
       "\n",
       "    .dataframe thead th {\n",
       "        text-align: right;\n",
       "    }\n",
       "</style>\n",
       "<table border=\"1\" class=\"dataframe\">\n",
       "  <thead>\n",
       "    <tr style=\"text-align: right;\">\n",
       "      <th></th>\n",
       "      <th>abnormal</th>\n",
       "      <th>acl</th>\n",
       "      <th>meniscus</th>\n",
       "      <th>split</th>\n",
       "    </tr>\n",
       "    <tr>\n",
       "      <th>case</th>\n",
       "      <th></th>\n",
       "      <th></th>\n",
       "      <th></th>\n",
       "      <th></th>\n",
       "    </tr>\n",
       "  </thead>\n",
       "  <tbody>\n",
       "    <tr>\n",
       "      <th>0000.npy</th>\n",
       "      <td>1</td>\n",
       "      <td>0</td>\n",
       "      <td>0</td>\n",
       "      <td>train</td>\n",
       "    </tr>\n",
       "    <tr>\n",
       "      <th>0001.npy</th>\n",
       "      <td>1</td>\n",
       "      <td>1</td>\n",
       "      <td>1</td>\n",
       "      <td>train</td>\n",
       "    </tr>\n",
       "    <tr>\n",
       "      <th>0002.npy</th>\n",
       "      <td>1</td>\n",
       "      <td>0</td>\n",
       "      <td>0</td>\n",
       "      <td>train</td>\n",
       "    </tr>\n",
       "    <tr>\n",
       "      <th>0003.npy</th>\n",
       "      <td>1</td>\n",
       "      <td>0</td>\n",
       "      <td>1</td>\n",
       "      <td>train</td>\n",
       "    </tr>\n",
       "    <tr>\n",
       "      <th>0004.npy</th>\n",
       "      <td>1</td>\n",
       "      <td>0</td>\n",
       "      <td>0</td>\n",
       "      <td>train</td>\n",
       "    </tr>\n",
       "  </tbody>\n",
       "</table>\n",
       "</div>"
      ],
      "text/plain": [
       "          abnormal  acl  meniscus  split\n",
       "case                                    \n",
       "0000.npy         1    0         0  train\n",
       "0001.npy         1    1         1  train\n",
       "0002.npy         1    0         0  train\n",
       "0003.npy         1    0         1  train\n",
       "0004.npy         1    0         0  train"
      ]
     },
     "execution_count": 64,
     "metadata": {},
     "output_type": "execute_result"
    }
   ],
   "source": [
    "# Now we want to combine all of those data sets\n",
    "# import functools\n",
    "dfs = [\n",
    "    pd.concat([train_acl, test_acl], ignore_index=True), \n",
    "    pd.concat([train_meniscus, test_meniscus], ignore_index=True)\n",
    "]\n",
    "# df = functools.reduce(lambda a, b: pd.merge(a, b, on=['case', 'split'], suffixes=(False, False), how='outer'), dfs)\n",
    "# df.tail()\n",
    "df = pd.concat([train_abnormal, test_abnormal], ignore_index=True)\n",
    "df.set_index('case', inplace=True)\n",
    "for _df in dfs:\n",
    "    assert(np.all(df.loc[_df.case, 'split'].values == _df.split.values))\n",
    "    \n",
    "    df = df.join(_df.set_index('case').drop('split', axis='columns'), how='outer')\n",
    "df = df[['abnormal', 'acl', 'meniscus', 'split']]\n",
    "\n",
    "df.index = df.index.map(lambda c: c + '.npy')\n",
    "df.head()"
   ]
  },
  {
   "cell_type": "code",
   "execution_count": 65,
   "metadata": {},
   "outputs": [],
   "source": [
    "df.to_csv('../mrnet-labels.csv', index=True)"
   ]
  },
  {
   "cell_type": "code",
   "execution_count": 66,
   "metadata": {},
   "outputs": [
    {
     "name": "stdout",
     "output_type": "stream",
     "text": [
      "case,abnormal,acl,meniscus,split\r\n",
      "0000.npy,1,0,0,train\r\n",
      "0001.npy,1,1,1,train\r\n",
      "0002.npy,1,0,0,train\r\n",
      "0003.npy,1,0,1,train\r\n",
      "0004.npy,1,0,0,train\r\n",
      "0005.npy,1,0,1,train\r\n",
      "0006.npy,1,0,0,train\r\n",
      "0007.npy,1,0,0,train\r\n",
      "0008.npy,1,0,0,train\r\n"
     ]
    }
   ],
   "source": [
    "!head ../mrnet-labels.csv"
   ]
  },
  {
   "cell_type": "markdown",
   "metadata": {},
   "source": [
    "Let's set some of the train set as the valid set."
   ]
  },
  {
   "cell_type": "code",
   "execution_count": 6,
   "metadata": {},
   "outputs": [
    {
     "data": {
      "text/html": [
       "<div>\n",
       "<style scoped>\n",
       "    .dataframe tbody tr th:only-of-type {\n",
       "        vertical-align: middle;\n",
       "    }\n",
       "\n",
       "    .dataframe tbody tr th {\n",
       "        vertical-align: top;\n",
       "    }\n",
       "\n",
       "    .dataframe thead th {\n",
       "        text-align: right;\n",
       "    }\n",
       "</style>\n",
       "<table border=\"1\" class=\"dataframe\">\n",
       "  <thead>\n",
       "    <tr style=\"text-align: right;\">\n",
       "      <th></th>\n",
       "      <th>abnormal</th>\n",
       "      <th>acl</th>\n",
       "      <th>meniscus</th>\n",
       "      <th>split</th>\n",
       "    </tr>\n",
       "    <tr>\n",
       "      <th>case</th>\n",
       "      <th></th>\n",
       "      <th></th>\n",
       "      <th></th>\n",
       "      <th></th>\n",
       "    </tr>\n",
       "  </thead>\n",
       "  <tbody>\n",
       "    <tr>\n",
       "      <th>0000.npy</th>\n",
       "      <td>1</td>\n",
       "      <td>0</td>\n",
       "      <td>0</td>\n",
       "      <td>train</td>\n",
       "    </tr>\n",
       "    <tr>\n",
       "      <th>0001.npy</th>\n",
       "      <td>1</td>\n",
       "      <td>1</td>\n",
       "      <td>1</td>\n",
       "      <td>train</td>\n",
       "    </tr>\n",
       "    <tr>\n",
       "      <th>0002.npy</th>\n",
       "      <td>1</td>\n",
       "      <td>0</td>\n",
       "      <td>0</td>\n",
       "      <td>train</td>\n",
       "    </tr>\n",
       "    <tr>\n",
       "      <th>0003.npy</th>\n",
       "      <td>1</td>\n",
       "      <td>0</td>\n",
       "      <td>1</td>\n",
       "      <td>train</td>\n",
       "    </tr>\n",
       "    <tr>\n",
       "      <th>0004.npy</th>\n",
       "      <td>1</td>\n",
       "      <td>0</td>\n",
       "      <td>0</td>\n",
       "      <td>train</td>\n",
       "    </tr>\n",
       "  </tbody>\n",
       "</table>\n",
       "</div>"
      ],
      "text/plain": [
       "          abnormal  acl  meniscus  split\n",
       "case                                    \n",
       "0000.npy         1    0         0  train\n",
       "0001.npy         1    1         1  train\n",
       "0002.npy         1    0         0  train\n",
       "0003.npy         1    0         1  train\n",
       "0004.npy         1    0         0  train"
      ]
     },
     "execution_count": 6,
     "metadata": {},
     "output_type": "execute_result"
    }
   ],
   "source": [
    "import pandas as pd\n",
    "df = pd.read_csv('../mrnet-labels.csv', index_col=0)\n",
    "df.head()"
   ]
  },
  {
   "cell_type": "code",
   "execution_count": 7,
   "metadata": {},
   "outputs": [
    {
     "data": {
      "text/html": [
       "<div>\n",
       "<style scoped>\n",
       "    .dataframe tbody tr th:only-of-type {\n",
       "        vertical-align: middle;\n",
       "    }\n",
       "\n",
       "    .dataframe tbody tr th {\n",
       "        vertical-align: top;\n",
       "    }\n",
       "\n",
       "    .dataframe thead th {\n",
       "        text-align: right;\n",
       "    }\n",
       "</style>\n",
       "<table border=\"1\" class=\"dataframe\">\n",
       "  <thead>\n",
       "    <tr style=\"text-align: right;\">\n",
       "      <th></th>\n",
       "      <th>abnormal</th>\n",
       "      <th>acl</th>\n",
       "      <th>meniscus</th>\n",
       "    </tr>\n",
       "    <tr>\n",
       "      <th>split</th>\n",
       "      <th></th>\n",
       "      <th></th>\n",
       "      <th></th>\n",
       "    </tr>\n",
       "  </thead>\n",
       "  <tbody>\n",
       "    <tr>\n",
       "      <th>test</th>\n",
       "      <td>120</td>\n",
       "      <td>120</td>\n",
       "      <td>120</td>\n",
       "    </tr>\n",
       "    <tr>\n",
       "      <th>train</th>\n",
       "      <td>1130</td>\n",
       "      <td>1130</td>\n",
       "      <td>1130</td>\n",
       "    </tr>\n",
       "  </tbody>\n",
       "</table>\n",
       "</div>"
      ],
      "text/plain": [
       "       abnormal   acl  meniscus\n",
       "split                          \n",
       "test        120   120       120\n",
       "train      1130  1130      1130"
      ]
     },
     "execution_count": 7,
     "metadata": {},
     "output_type": "execute_result"
    }
   ],
   "source": [
    "df.groupby('split').count()"
   ]
  },
  {
   "cell_type": "code",
   "execution_count": 8,
   "metadata": {},
   "outputs": [
    {
     "data": {
      "text/html": [
       "<div>\n",
       "<style scoped>\n",
       "    .dataframe tbody tr th:only-of-type {\n",
       "        vertical-align: middle;\n",
       "    }\n",
       "\n",
       "    .dataframe tbody tr th {\n",
       "        vertical-align: top;\n",
       "    }\n",
       "\n",
       "    .dataframe thead th {\n",
       "        text-align: right;\n",
       "    }\n",
       "</style>\n",
       "<table border=\"1\" class=\"dataframe\">\n",
       "  <thead>\n",
       "    <tr style=\"text-align: right;\">\n",
       "      <th></th>\n",
       "      <th>abnormal</th>\n",
       "      <th>acl</th>\n",
       "      <th>meniscus</th>\n",
       "    </tr>\n",
       "    <tr>\n",
       "      <th>split</th>\n",
       "      <th></th>\n",
       "      <th></th>\n",
       "      <th></th>\n",
       "    </tr>\n",
       "  </thead>\n",
       "  <tbody>\n",
       "    <tr>\n",
       "      <th>test</th>\n",
       "      <td>95</td>\n",
       "      <td>54</td>\n",
       "      <td>52</td>\n",
       "    </tr>\n",
       "    <tr>\n",
       "      <th>train</th>\n",
       "      <td>913</td>\n",
       "      <td>208</td>\n",
       "      <td>397</td>\n",
       "    </tr>\n",
       "  </tbody>\n",
       "</table>\n",
       "</div>"
      ],
      "text/plain": [
       "       abnormal  acl  meniscus\n",
       "split                         \n",
       "test         95   54        52\n",
       "train       913  208       397"
      ]
     },
     "execution_count": 8,
     "metadata": {},
     "output_type": "execute_result"
    }
   ],
   "source": [
    "df.groupby('split').sum()"
   ]
  },
  {
   "cell_type": "code",
   "execution_count": 9,
   "metadata": {},
   "outputs": [
    {
     "data": {
      "text/html": [
       "<div>\n",
       "<style scoped>\n",
       "    .dataframe tbody tr th:only-of-type {\n",
       "        vertical-align: middle;\n",
       "    }\n",
       "\n",
       "    .dataframe tbody tr th {\n",
       "        vertical-align: top;\n",
       "    }\n",
       "\n",
       "    .dataframe thead th {\n",
       "        text-align: right;\n",
       "    }\n",
       "</style>\n",
       "<table border=\"1\" class=\"dataframe\">\n",
       "  <thead>\n",
       "    <tr style=\"text-align: right;\">\n",
       "      <th></th>\n",
       "      <th>abnormal</th>\n",
       "      <th>acl</th>\n",
       "      <th>meniscus</th>\n",
       "    </tr>\n",
       "    <tr>\n",
       "      <th>split</th>\n",
       "      <th></th>\n",
       "      <th></th>\n",
       "      <th></th>\n",
       "    </tr>\n",
       "  </thead>\n",
       "  <tbody>\n",
       "    <tr>\n",
       "      <th>test</th>\n",
       "      <td>0.791667</td>\n",
       "      <td>0.450000</td>\n",
       "      <td>0.433333</td>\n",
       "    </tr>\n",
       "    <tr>\n",
       "      <th>train</th>\n",
       "      <td>0.807965</td>\n",
       "      <td>0.184071</td>\n",
       "      <td>0.351327</td>\n",
       "    </tr>\n",
       "  </tbody>\n",
       "</table>\n",
       "</div>"
      ],
      "text/plain": [
       "       abnormal       acl  meniscus\n",
       "split                              \n",
       "test   0.791667  0.450000  0.433333\n",
       "train  0.807965  0.184071  0.351327"
      ]
     },
     "execution_count": 9,
     "metadata": {},
     "output_type": "execute_result"
    }
   ],
   "source": [
    "df.groupby('split').mean()"
   ]
  },
  {
   "cell_type": "code",
   "execution_count": 10,
   "metadata": {},
   "outputs": [
    {
     "data": {
      "text/html": [
       "<div>\n",
       "<style scoped>\n",
       "    .dataframe tbody tr th:only-of-type {\n",
       "        vertical-align: middle;\n",
       "    }\n",
       "\n",
       "    .dataframe tbody tr th {\n",
       "        vertical-align: top;\n",
       "    }\n",
       "\n",
       "    .dataframe thead th {\n",
       "        text-align: right;\n",
       "    }\n",
       "</style>\n",
       "<table border=\"1\" class=\"dataframe\">\n",
       "  <thead>\n",
       "    <tr style=\"text-align: right;\">\n",
       "      <th></th>\n",
       "      <th>abnormal</th>\n",
       "      <th>acl</th>\n",
       "      <th>meniscus</th>\n",
       "    </tr>\n",
       "    <tr>\n",
       "      <th>split</th>\n",
       "      <th></th>\n",
       "      <th></th>\n",
       "      <th></th>\n",
       "    </tr>\n",
       "  </thead>\n",
       "  <tbody>\n",
       "    <tr>\n",
       "      <th>test</th>\n",
       "      <td>95</td>\n",
       "      <td>54</td>\n",
       "      <td>52</td>\n",
       "    </tr>\n",
       "    <tr>\n",
       "      <th>train</th>\n",
       "      <td>817</td>\n",
       "      <td>193</td>\n",
       "      <td>357</td>\n",
       "    </tr>\n",
       "    <tr>\n",
       "      <th>valid</th>\n",
       "      <td>96</td>\n",
       "      <td>15</td>\n",
       "      <td>40</td>\n",
       "    </tr>\n",
       "  </tbody>\n",
       "</table>\n",
       "</div>"
      ],
      "text/plain": [
       "       abnormal  acl  meniscus\n",
       "split                         \n",
       "test         95   54        52\n",
       "train       817  193       357\n",
       "valid        96   15        40"
      ]
     },
     "execution_count": 10,
     "metadata": {},
     "output_type": "execute_result"
    }
   ],
   "source": [
    "sample = df[df.split == 'train'].sample(120)\n",
    "df.loc[sample.index, 'split'] = 'valid'\n",
    "df.groupby('split').sum()"
   ]
  },
  {
   "cell_type": "code",
   "execution_count": 11,
   "metadata": {},
   "outputs": [
    {
     "data": {
      "text/html": [
       "<div>\n",
       "<style scoped>\n",
       "    .dataframe tbody tr th:only-of-type {\n",
       "        vertical-align: middle;\n",
       "    }\n",
       "\n",
       "    .dataframe tbody tr th {\n",
       "        vertical-align: top;\n",
       "    }\n",
       "\n",
       "    .dataframe thead th {\n",
       "        text-align: right;\n",
       "    }\n",
       "</style>\n",
       "<table border=\"1\" class=\"dataframe\">\n",
       "  <thead>\n",
       "    <tr style=\"text-align: right;\">\n",
       "      <th></th>\n",
       "      <th>abnormal</th>\n",
       "      <th>acl</th>\n",
       "      <th>meniscus</th>\n",
       "    </tr>\n",
       "    <tr>\n",
       "      <th>split</th>\n",
       "      <th></th>\n",
       "      <th></th>\n",
       "      <th></th>\n",
       "    </tr>\n",
       "  </thead>\n",
       "  <tbody>\n",
       "    <tr>\n",
       "      <th>test</th>\n",
       "      <td>0.791667</td>\n",
       "      <td>0.450000</td>\n",
       "      <td>0.433333</td>\n",
       "    </tr>\n",
       "    <tr>\n",
       "      <th>train</th>\n",
       "      <td>0.808911</td>\n",
       "      <td>0.191089</td>\n",
       "      <td>0.353465</td>\n",
       "    </tr>\n",
       "    <tr>\n",
       "      <th>valid</th>\n",
       "      <td>0.800000</td>\n",
       "      <td>0.125000</td>\n",
       "      <td>0.333333</td>\n",
       "    </tr>\n",
       "  </tbody>\n",
       "</table>\n",
       "</div>"
      ],
      "text/plain": [
       "       abnormal       acl  meniscus\n",
       "split                              \n",
       "test   0.791667  0.450000  0.433333\n",
       "train  0.808911  0.191089  0.353465\n",
       "valid  0.800000  0.125000  0.333333"
      ]
     },
     "execution_count": 11,
     "metadata": {},
     "output_type": "execute_result"
    }
   ],
   "source": [
    "df.groupby('split').mean()"
   ]
  },
  {
   "cell_type": "code",
   "execution_count": 12,
   "metadata": {},
   "outputs": [
    {
     "data": {
      "text/html": [
       "<div>\n",
       "<style scoped>\n",
       "    .dataframe tbody tr th:only-of-type {\n",
       "        vertical-align: middle;\n",
       "    }\n",
       "\n",
       "    .dataframe tbody tr th {\n",
       "        vertical-align: top;\n",
       "    }\n",
       "\n",
       "    .dataframe thead th {\n",
       "        text-align: right;\n",
       "    }\n",
       "</style>\n",
       "<table border=\"1\" class=\"dataframe\">\n",
       "  <thead>\n",
       "    <tr style=\"text-align: right;\">\n",
       "      <th></th>\n",
       "      <th>abnormal</th>\n",
       "      <th>acl</th>\n",
       "      <th>meniscus</th>\n",
       "    </tr>\n",
       "    <tr>\n",
       "      <th>split</th>\n",
       "      <th></th>\n",
       "      <th></th>\n",
       "      <th></th>\n",
       "    </tr>\n",
       "  </thead>\n",
       "  <tbody>\n",
       "    <tr>\n",
       "      <th>test</th>\n",
       "      <td>120</td>\n",
       "      <td>120</td>\n",
       "      <td>120</td>\n",
       "    </tr>\n",
       "    <tr>\n",
       "      <th>train</th>\n",
       "      <td>1010</td>\n",
       "      <td>1010</td>\n",
       "      <td>1010</td>\n",
       "    </tr>\n",
       "    <tr>\n",
       "      <th>valid</th>\n",
       "      <td>120</td>\n",
       "      <td>120</td>\n",
       "      <td>120</td>\n",
       "    </tr>\n",
       "  </tbody>\n",
       "</table>\n",
       "</div>"
      ],
      "text/plain": [
       "       abnormal   acl  meniscus\n",
       "split                          \n",
       "test        120   120       120\n",
       "train      1010  1010      1010\n",
       "valid       120   120       120"
      ]
     },
     "execution_count": 12,
     "metadata": {},
     "output_type": "execute_result"
    }
   ],
   "source": [
    "df.groupby('split').count()"
   ]
  },
  {
   "cell_type": "code",
   "execution_count": 13,
   "metadata": {},
   "outputs": [],
   "source": [
    "df.to_csv('../mrnet-labels-3way.csv', index=True)"
   ]
  },
  {
   "cell_type": "markdown",
   "metadata": {},
   "source": [
    "The validation split that I made is not ideal because it has so few of the positive ACL labels and so few of the negative abnormal labels. I'll try to fix that below."
   ]
  },
  {
   "cell_type": "code",
   "execution_count": 36,
   "metadata": {},
   "outputs": [
    {
     "data": {
      "text/html": [
       "<div>\n",
       "<style scoped>\n",
       "    .dataframe tbody tr th:only-of-type {\n",
       "        vertical-align: middle;\n",
       "    }\n",
       "\n",
       "    .dataframe tbody tr th {\n",
       "        vertical-align: top;\n",
       "    }\n",
       "\n",
       "    .dataframe thead th {\n",
       "        text-align: right;\n",
       "    }\n",
       "</style>\n",
       "<table border=\"1\" class=\"dataframe\">\n",
       "  <thead>\n",
       "    <tr style=\"text-align: right;\">\n",
       "      <th></th>\n",
       "      <th>abnormal</th>\n",
       "      <th>acl</th>\n",
       "      <th>meniscus</th>\n",
       "      <th>split</th>\n",
       "    </tr>\n",
       "    <tr>\n",
       "      <th>case</th>\n",
       "      <th></th>\n",
       "      <th></th>\n",
       "      <th></th>\n",
       "      <th></th>\n",
       "    </tr>\n",
       "  </thead>\n",
       "  <tbody>\n",
       "    <tr>\n",
       "      <th>0000.npy</th>\n",
       "      <td>1</td>\n",
       "      <td>0</td>\n",
       "      <td>0</td>\n",
       "      <td>train</td>\n",
       "    </tr>\n",
       "    <tr>\n",
       "      <th>0001.npy</th>\n",
       "      <td>1</td>\n",
       "      <td>1</td>\n",
       "      <td>1</td>\n",
       "      <td>train</td>\n",
       "    </tr>\n",
       "    <tr>\n",
       "      <th>0002.npy</th>\n",
       "      <td>1</td>\n",
       "      <td>0</td>\n",
       "      <td>0</td>\n",
       "      <td>train</td>\n",
       "    </tr>\n",
       "    <tr>\n",
       "      <th>0003.npy</th>\n",
       "      <td>1</td>\n",
       "      <td>0</td>\n",
       "      <td>1</td>\n",
       "      <td>train</td>\n",
       "    </tr>\n",
       "    <tr>\n",
       "      <th>0004.npy</th>\n",
       "      <td>1</td>\n",
       "      <td>0</td>\n",
       "      <td>0</td>\n",
       "      <td>train</td>\n",
       "    </tr>\n",
       "  </tbody>\n",
       "</table>\n",
       "</div>"
      ],
      "text/plain": [
       "          abnormal  acl  meniscus  split\n",
       "case                                    \n",
       "0000.npy         1    0         0  train\n",
       "0001.npy         1    1         1  train\n",
       "0002.npy         1    0         0  train\n",
       "0003.npy         1    0         1  train\n",
       "0004.npy         1    0         0  train"
      ]
     },
     "execution_count": 36,
     "metadata": {},
     "output_type": "execute_result"
    }
   ],
   "source": [
    "import pandas as pd\n",
    "df = pd.read_csv('../mrnet-labels.csv', index_col=0)\n",
    "df.head()"
   ]
  },
  {
   "cell_type": "code",
   "execution_count": 23,
   "metadata": {},
   "outputs": [
    {
     "data": {
      "text/html": [
       "<div>\n",
       "<style scoped>\n",
       "    .dataframe tbody tr th:only-of-type {\n",
       "        vertical-align: middle;\n",
       "    }\n",
       "\n",
       "    .dataframe tbody tr th {\n",
       "        vertical-align: top;\n",
       "    }\n",
       "\n",
       "    .dataframe thead tr th {\n",
       "        text-align: left;\n",
       "    }\n",
       "\n",
       "    .dataframe thead tr:last-of-type th {\n",
       "        text-align: right;\n",
       "    }\n",
       "</style>\n",
       "<table border=\"1\" class=\"dataframe\">\n",
       "  <thead>\n",
       "    <tr>\n",
       "      <th></th>\n",
       "      <th colspan=\"8\" halign=\"left\">abnormal</th>\n",
       "      <th colspan=\"5\" halign=\"left\">acl</th>\n",
       "      <th colspan=\"8\" halign=\"left\">meniscus</th>\n",
       "    </tr>\n",
       "    <tr>\n",
       "      <th></th>\n",
       "      <th>count</th>\n",
       "      <th>mean</th>\n",
       "      <th>std</th>\n",
       "      <th>min</th>\n",
       "      <th>25%</th>\n",
       "      <th>50%</th>\n",
       "      <th>75%</th>\n",
       "      <th>max</th>\n",
       "      <th>count</th>\n",
       "      <th>mean</th>\n",
       "      <th>...</th>\n",
       "      <th>75%</th>\n",
       "      <th>max</th>\n",
       "      <th>count</th>\n",
       "      <th>mean</th>\n",
       "      <th>std</th>\n",
       "      <th>min</th>\n",
       "      <th>25%</th>\n",
       "      <th>50%</th>\n",
       "      <th>75%</th>\n",
       "      <th>max</th>\n",
       "    </tr>\n",
       "    <tr>\n",
       "      <th>split</th>\n",
       "      <th></th>\n",
       "      <th></th>\n",
       "      <th></th>\n",
       "      <th></th>\n",
       "      <th></th>\n",
       "      <th></th>\n",
       "      <th></th>\n",
       "      <th></th>\n",
       "      <th></th>\n",
       "      <th></th>\n",
       "      <th></th>\n",
       "      <th></th>\n",
       "      <th></th>\n",
       "      <th></th>\n",
       "      <th></th>\n",
       "      <th></th>\n",
       "      <th></th>\n",
       "      <th></th>\n",
       "      <th></th>\n",
       "      <th></th>\n",
       "      <th></th>\n",
       "    </tr>\n",
       "  </thead>\n",
       "  <tbody>\n",
       "    <tr>\n",
       "      <th>test</th>\n",
       "      <td>120.0</td>\n",
       "      <td>0.791667</td>\n",
       "      <td>0.407819</td>\n",
       "      <td>0.0</td>\n",
       "      <td>1.0</td>\n",
       "      <td>1.0</td>\n",
       "      <td>1.0</td>\n",
       "      <td>1.0</td>\n",
       "      <td>120.0</td>\n",
       "      <td>0.450000</td>\n",
       "      <td>...</td>\n",
       "      <td>1.0</td>\n",
       "      <td>1.0</td>\n",
       "      <td>120.0</td>\n",
       "      <td>0.433333</td>\n",
       "      <td>0.497613</td>\n",
       "      <td>0.0</td>\n",
       "      <td>0.0</td>\n",
       "      <td>0.0</td>\n",
       "      <td>1.0</td>\n",
       "      <td>1.0</td>\n",
       "    </tr>\n",
       "    <tr>\n",
       "      <th>train</th>\n",
       "      <td>1130.0</td>\n",
       "      <td>0.807965</td>\n",
       "      <td>0.394075</td>\n",
       "      <td>0.0</td>\n",
       "      <td>1.0</td>\n",
       "      <td>1.0</td>\n",
       "      <td>1.0</td>\n",
       "      <td>1.0</td>\n",
       "      <td>1130.0</td>\n",
       "      <td>0.184071</td>\n",
       "      <td>...</td>\n",
       "      <td>0.0</td>\n",
       "      <td>1.0</td>\n",
       "      <td>1130.0</td>\n",
       "      <td>0.351327</td>\n",
       "      <td>0.477596</td>\n",
       "      <td>0.0</td>\n",
       "      <td>0.0</td>\n",
       "      <td>0.0</td>\n",
       "      <td>1.0</td>\n",
       "      <td>1.0</td>\n",
       "    </tr>\n",
       "  </tbody>\n",
       "</table>\n",
       "<p>2 rows × 24 columns</p>\n",
       "</div>"
      ],
      "text/plain": [
       "      abnormal                                                  acl            \\\n",
       "         count      mean       std  min  25%  50%  75%  max   count      mean   \n",
       "split                                                                           \n",
       "test     120.0  0.791667  0.407819  0.0  1.0  1.0  1.0  1.0   120.0  0.450000   \n",
       "train   1130.0  0.807965  0.394075  0.0  1.0  1.0  1.0  1.0  1130.0  0.184071   \n",
       "\n",
       "      ...            meniscus                                               \n",
       "      ...   75%  max    count      mean       std  min  25%  50%  75%  max  \n",
       "split ...                                                                   \n",
       "test  ...   1.0  1.0    120.0  0.433333  0.497613  0.0  0.0  0.0  1.0  1.0  \n",
       "train ...   0.0  1.0   1130.0  0.351327  0.477596  0.0  0.0  0.0  1.0  1.0  \n",
       "\n",
       "[2 rows x 24 columns]"
      ]
     },
     "execution_count": 23,
     "metadata": {},
     "output_type": "execute_result"
    }
   ],
   "source": [
    "df.groupby('split').describe()"
   ]
  },
  {
   "cell_type": "code",
   "execution_count": 3,
   "metadata": {},
   "outputs": [
    {
     "data": {
      "text/html": [
       "<div>\n",
       "<style scoped>\n",
       "    .dataframe tbody tr th:only-of-type {\n",
       "        vertical-align: middle;\n",
       "    }\n",
       "\n",
       "    .dataframe tbody tr th {\n",
       "        vertical-align: top;\n",
       "    }\n",
       "\n",
       "    .dataframe thead th {\n",
       "        text-align: right;\n",
       "    }\n",
       "</style>\n",
       "<table border=\"1\" class=\"dataframe\">\n",
       "  <thead>\n",
       "    <tr style=\"text-align: right;\">\n",
       "      <th></th>\n",
       "      <th>abnormal</th>\n",
       "      <th>acl</th>\n",
       "      <th>meniscus</th>\n",
       "    </tr>\n",
       "    <tr>\n",
       "      <th>split</th>\n",
       "      <th></th>\n",
       "      <th></th>\n",
       "      <th></th>\n",
       "    </tr>\n",
       "  </thead>\n",
       "  <tbody>\n",
       "    <tr>\n",
       "      <th>test</th>\n",
       "      <td>120</td>\n",
       "      <td>120</td>\n",
       "      <td>120</td>\n",
       "    </tr>\n",
       "    <tr>\n",
       "      <th>train</th>\n",
       "      <td>1130</td>\n",
       "      <td>1130</td>\n",
       "      <td>1130</td>\n",
       "    </tr>\n",
       "  </tbody>\n",
       "</table>\n",
       "</div>"
      ],
      "text/plain": [
       "       abnormal   acl  meniscus\n",
       "split                          \n",
       "test        120   120       120\n",
       "train      1130  1130      1130"
      ]
     },
     "execution_count": 3,
     "metadata": {},
     "output_type": "execute_result"
    }
   ],
   "source": [
    "df.groupby('split').count()"
   ]
  },
  {
   "cell_type": "code",
   "execution_count": 4,
   "metadata": {},
   "outputs": [
    {
     "data": {
      "text/html": [
       "<div>\n",
       "<style scoped>\n",
       "    .dataframe tbody tr th:only-of-type {\n",
       "        vertical-align: middle;\n",
       "    }\n",
       "\n",
       "    .dataframe tbody tr th {\n",
       "        vertical-align: top;\n",
       "    }\n",
       "\n",
       "    .dataframe thead th {\n",
       "        text-align: right;\n",
       "    }\n",
       "</style>\n",
       "<table border=\"1\" class=\"dataframe\">\n",
       "  <thead>\n",
       "    <tr style=\"text-align: right;\">\n",
       "      <th></th>\n",
       "      <th>abnormal</th>\n",
       "      <th>acl</th>\n",
       "      <th>meniscus</th>\n",
       "    </tr>\n",
       "    <tr>\n",
       "      <th>split</th>\n",
       "      <th></th>\n",
       "      <th></th>\n",
       "      <th></th>\n",
       "    </tr>\n",
       "  </thead>\n",
       "  <tbody>\n",
       "    <tr>\n",
       "      <th>test</th>\n",
       "      <td>95</td>\n",
       "      <td>54</td>\n",
       "      <td>52</td>\n",
       "    </tr>\n",
       "    <tr>\n",
       "      <th>train</th>\n",
       "      <td>913</td>\n",
       "      <td>208</td>\n",
       "      <td>397</td>\n",
       "    </tr>\n",
       "  </tbody>\n",
       "</table>\n",
       "</div>"
      ],
      "text/plain": [
       "       abnormal  acl  meniscus\n",
       "split                         \n",
       "test         95   54        52\n",
       "train       913  208       397"
      ]
     },
     "execution_count": 4,
     "metadata": {},
     "output_type": "execute_result"
    }
   ],
   "source": [
    "df.groupby('split').sum()"
   ]
  },
  {
   "cell_type": "code",
   "execution_count": 46,
   "metadata": {},
   "outputs": [
    {
     "name": "stdout",
     "output_type": "stream",
     "text": [
      "120\n"
     ]
    },
    {
     "data": {
      "text/html": [
       "<div>\n",
       "<style scoped>\n",
       "    .dataframe tbody tr th:only-of-type {\n",
       "        vertical-align: middle;\n",
       "    }\n",
       "\n",
       "    .dataframe tbody tr th {\n",
       "        vertical-align: top;\n",
       "    }\n",
       "\n",
       "    .dataframe thead th {\n",
       "        text-align: right;\n",
       "    }\n",
       "</style>\n",
       "<table border=\"1\" class=\"dataframe\">\n",
       "  <thead>\n",
       "    <tr style=\"text-align: right;\">\n",
       "      <th></th>\n",
       "      <th>abnormal</th>\n",
       "      <th>acl</th>\n",
       "      <th>meniscus</th>\n",
       "    </tr>\n",
       "    <tr>\n",
       "      <th>split</th>\n",
       "      <th></th>\n",
       "      <th></th>\n",
       "      <th></th>\n",
       "    </tr>\n",
       "  </thead>\n",
       "  <tbody>\n",
       "    <tr>\n",
       "      <th>test</th>\n",
       "      <td>95</td>\n",
       "      <td>54</td>\n",
       "      <td>52</td>\n",
       "    </tr>\n",
       "    <tr>\n",
       "      <th>train</th>\n",
       "      <td>835</td>\n",
       "      <td>167</td>\n",
       "      <td>353</td>\n",
       "    </tr>\n",
       "    <tr>\n",
       "      <th>valid</th>\n",
       "      <td>78</td>\n",
       "      <td>41</td>\n",
       "      <td>44</td>\n",
       "    </tr>\n",
       "  </tbody>\n",
       "</table>\n",
       "</div>"
      ],
      "text/plain": [
       "       abnormal  acl  meniscus\n",
       "split                         \n",
       "test         95   54        52\n",
       "train       835  167       353\n",
       "valid        78   41        44"
      ]
     },
     "execution_count": 46,
     "metadata": {},
     "output_type": "execute_result"
    }
   ],
   "source": [
    "df = pd.read_csv('../mrnet-labels.csv', index_col=0)\n",
    "sample = pd.concat([\n",
    "    df[(df.split == 'train') & (df.abnormal == 0)].sample(35),\n",
    "    df[(df.split == 'train') & (df.acl == 1)].sample(40),\n",
    "    df[(df.split == 'train') & (df.acl == 0)].sample(40),\n",
    "    df[(df.split == 'train') & (df.meniscus == 1)].sample(7),\n",
    "])\n",
    "print(len(set(sample.index)))\n",
    "assert(len(set(sample.index)) == 120)\n",
    "\n",
    "df.loc[sample.index, 'split'] = 'valid'\n",
    "df.groupby('split').sum()"
   ]
  },
  {
   "cell_type": "markdown",
   "metadata": {},
   "source": [
    "Good! It looks like valid has a similar distribution as test. Let's be sure."
   ]
  },
  {
   "cell_type": "code",
   "execution_count": 47,
   "metadata": {},
   "outputs": [
    {
     "name": "stdout",
     "output_type": "stream",
     "text": [
      "abnormal\t835\t78\t95\n",
      "abnormal\t175\t42\t25\n",
      "abnormal\t1010\t120\t120\n",
      "acl     \t167\t41\t54\n",
      "acl     \t843\t79\t66\n",
      "acl     \t1010\t120\t120\n",
      "meniscus\t353\t44\t52\n",
      "meniscus\t657\t76\t68\n",
      "meniscus\t1010\t120\t120\n"
     ]
    }
   ],
   "source": [
    "splits = ['train', 'valid', 'test']\n",
    "for d in ['abnormal', 'acl', 'meniscus']:\n",
    "    pos_count = [((df.split == split) & (df[d] == 1)).sum() for split in splits]\n",
    "    print('{}{}\\t{}\\t{}\\t{}'.format(d, '     ' if d == 'acl' else '', *pos_count))\n",
    "    neg_count = [((df.split == split) & (df[d] == 0)).sum() for split in splits]\n",
    "    print('{}{}\\t{}\\t{}\\t{}'.format(d, '     ' if d == 'acl' else '', *neg_count))\n",
    "    all_count = [((df.split == split)).sum() for split in splits]\n",
    "    print('{}{}\\t{}\\t{}\\t{}'.format(d, '     ' if d == 'acl' else '', *all_count))"
   ]
  },
  {
   "cell_type": "markdown",
   "metadata": {},
   "source": [
    "That was a weird ass sampling strategy, but the classes are more balanced now."
   ]
  },
  {
   "cell_type": "code",
   "execution_count": 48,
   "metadata": {},
   "outputs": [
    {
     "data": {
      "text/plain": [
       "1250"
      ]
     },
     "execution_count": 48,
     "metadata": {},
     "output_type": "execute_result"
    }
   ],
   "source": [
    "len(set(df.index))"
   ]
  },
  {
   "cell_type": "code",
   "execution_count": 49,
   "metadata": {},
   "outputs": [
    {
     "data": {
      "text/plain": [
       "1250"
      ]
     },
     "execution_count": 49,
     "metadata": {},
     "output_type": "execute_result"
    }
   ],
   "source": [
    "len(df)"
   ]
  },
  {
   "cell_type": "code",
   "execution_count": null,
   "metadata": {},
   "outputs": [],
   "source": [
    "df.to_csv('../mrnet-labels-3way.csv', index=True)"
   ]
  }
 ],
 "metadata": {
  "kernelspec": {
   "display_name": "Python 3",
   "language": "python",
   "name": "python3"
  },
  "language_info": {
   "codemirror_mode": {
    "name": "ipython",
    "version": 3
   },
   "file_extension": ".py",
   "mimetype": "text/x-python",
   "name": "python",
   "nbconvert_exporter": "python",
   "pygments_lexer": "ipython3",
   "version": "3.6.6"
  }
 },
 "nbformat": 4,
 "nbformat_minor": 2
}
