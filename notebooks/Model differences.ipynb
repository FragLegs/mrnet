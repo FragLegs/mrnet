{
 "cells": [
  {
   "cell_type": "code",
   "execution_count": 1,
   "metadata": {},
   "outputs": [],
   "source": [
    "import argparse\n",
    "from collections import Counter\n",
    "import logging\n",
    "import os\n",
    "\n",
    "import cv2\n",
    "import numpy as np\n",
    "import pandas as pd\n",
    "import torch"
   ]
  },
  {
   "cell_type": "code",
   "execution_count": 2,
   "metadata": {},
   "outputs": [],
   "source": [
    "%load_ext autoreload\n",
    "%autoreload 2"
   ]
  },
  {
   "cell_type": "code",
   "execution_count": 3,
   "metadata": {},
   "outputs": [],
   "source": [
    "import sys\n",
    "sys.path.append('/repos/mrnet/scripts')\n",
    "from loader import load_data\n",
    "from model_choice import MODELS"
   ]
  },
  {
   "cell_type": "code",
   "execution_count": 4,
   "metadata": {},
   "outputs": [],
   "source": [
    "import cam"
   ]
  },
  {
   "cell_type": "code",
   "execution_count": 14,
   "metadata": {},
   "outputs": [],
   "source": [
    "diagnosis = 'acl'\n",
    "series = 'axial'\n",
    "model_names = ['MRNet', 'MRNet-Squeeze', 'MRNet-Attend', 'MRNet-SqueezeAttend']\n",
    "model_paths = {\n",
    "    mn: cam.get_model_path(mn, diagnosis, series) for mn in model_names\n",
    "}"
   ]
  },
  {
   "cell_type": "code",
   "execution_count": 20,
   "metadata": {},
   "outputs": [],
   "source": [
    "gpu=False"
   ]
  },
  {
   "cell_type": "code",
   "execution_count": 45,
   "metadata": {},
   "outputs": [],
   "source": [
    "test_loader = cam.get_data(diagnosis, series, gpu)"
   ]
  },
  {
   "cell_type": "code",
   "execution_count": 46,
   "metadata": {},
   "outputs": [],
   "source": [
    "vol, label, case = test_loader.dataset[88]"
   ]
  },
  {
   "cell_type": "code",
   "execution_count": 23,
   "metadata": {},
   "outputs": [
    {
     "data": {
      "text/plain": [
       "'1218.npy'"
      ]
     },
     "execution_count": 23,
     "metadata": {},
     "output_type": "execute_result"
    }
   ],
   "source": [
    "case"
   ]
  },
  {
   "cell_type": "code",
   "execution_count": 49,
   "metadata": {},
   "outputs": [
    {
     "name": "stdout",
     "output_type": "stream",
     "text": [
      "(256,)\n",
      "MRNet: 11\n",
      "(512,)\n",
      "MRNet-Squeeze: 7\n",
      "(26, 1)\n",
      "MRNet-Attend: 20\n",
      "(26, 1)\n",
      "MRNet-SqueezeAttend: 6\n"
     ]
    }
   ],
   "source": [
    "idx = None\n",
    "idxs = {}\n",
    "for mn in model_names:\n",
    "    model = cam.get_model(mn, model_paths[mn], gpu)\n",
    "    c, idx = cam.get_CAM(model, vol)\n",
    "    idxs[mn] = idx\n",
    "    print(f'{mn}: {idx}')"
   ]
  },
  {
   "cell_type": "code",
   "execution_count": 50,
   "metadata": {},
   "outputs": [
    {
     "data": {
      "text/plain": [
       "{'MRNet': 11, 'MRNet-Squeeze': 7, 'MRNet-Attend': 20, 'MRNet-SqueezeAttend': 6}"
      ]
     },
     "execution_count": 50,
     "metadata": {},
     "output_type": "execute_result"
    }
   ],
   "source": [
    "idxs"
   ]
  },
  {
   "cell_type": "code",
   "execution_count": 37,
   "metadata": {},
   "outputs": [],
   "source": [
    "def make_save_img(model, vol, idx, case, diagnosis, series, label, output_path):\n",
    "    v = vol.reshape(1, *vol.shape)\n",
    "    c, idx = cam.get_CAM(model, v, idx)\n",
    "    _, n_seq, n_channel, width, height = v.shape\n",
    "    img = vol.view(n_seq, n_channel, width, height).data.numpy()[idx]\n",
    "    heatmap = cv2.applyColorMap(c, cv2.COLORMAP_JET)\n",
    "    img = cam.denorm(np.moveaxis(img, 0, 2))\n",
    "    colored = 0.3 * heatmap + 0.5 * img\n",
    "\n",
    "    pred = torch.sigmoid(model.forward(v)).data.cpu().numpy()[0][0]\n",
    "    \n",
    "    model_name = model.__class__.__name__\n",
    "    label_val = int(label.data.cpu().numpy()[0])\n",
    "\n",
    "    img_path = 'result-{}-i{}-c{}-{}-{}-t{}-p{:.3f}.jpg'.format(\n",
    "        model_name, idx, case[:-4], diagnosis, series, label_val, pred\n",
    "    )\n",
    "    img_path = os.path.join(output_path, img_path)\n",
    "    cv2.imwrite(img_path, colored)\n",
    "    return img_path"
   ]
  },
  {
   "cell_type": "code",
   "execution_count": 27,
   "metadata": {},
   "outputs": [],
   "source": [
    "output_path = '/mnt/final_images'\n",
    "import os\n",
    "os.makedirs(output_path, exist_ok=True)"
   ]
  },
  {
   "cell_type": "code",
   "execution_count": 51,
   "metadata": {},
   "outputs": [
    {
     "name": "stdout",
     "output_type": "stream",
     "text": [
      "(256,)\n",
      "/mnt/final_images/result-MRNet-i11-c1218-acl-axial-t1-p0.844.jpg\n",
      "(256,)\n",
      "/mnt/final_images/result-MRNet-i7-c1218-acl-axial-t1-p0.844.jpg\n",
      "(256,)\n",
      "/mnt/final_images/result-MRNet-i20-c1218-acl-axial-t1-p0.844.jpg\n",
      "(256,)\n",
      "/mnt/final_images/result-MRNet-i6-c1218-acl-axial-t1-p0.844.jpg\n",
      "(512,)\n",
      "/mnt/final_images/result-MRNetSqueeze-i11-c1218-acl-axial-t1-p0.767.jpg\n",
      "(512,)\n",
      "/mnt/final_images/result-MRNetSqueeze-i7-c1218-acl-axial-t1-p0.767.jpg\n",
      "(512,)\n",
      "/mnt/final_images/result-MRNetSqueeze-i20-c1218-acl-axial-t1-p0.767.jpg\n",
      "(512,)\n",
      "/mnt/final_images/result-MRNetSqueeze-i6-c1218-acl-axial-t1-p0.767.jpg\n",
      "(26, 1)\n",
      "/mnt/final_images/result-MRNetAttention-i11-c1218-acl-axial-t1-p0.246.jpg\n",
      "(26, 1)\n",
      "/mnt/final_images/result-MRNetAttention-i7-c1218-acl-axial-t1-p0.246.jpg\n",
      "(26, 1)\n",
      "/mnt/final_images/result-MRNetAttention-i20-c1218-acl-axial-t1-p0.246.jpg\n",
      "(26, 1)\n",
      "/mnt/final_images/result-MRNetAttention-i6-c1218-acl-axial-t1-p0.246.jpg\n",
      "(26, 1)\n",
      "/mnt/final_images/result-MRNetSqueezeAttention-i11-c1218-acl-axial-t1-p0.312.jpg\n",
      "(26, 1)\n",
      "/mnt/final_images/result-MRNetSqueezeAttention-i7-c1218-acl-axial-t1-p0.312.jpg\n",
      "(26, 1)\n",
      "/mnt/final_images/result-MRNetSqueezeAttention-i20-c1218-acl-axial-t1-p0.312.jpg\n",
      "(26, 1)\n",
      "/mnt/final_images/result-MRNetSqueezeAttention-i6-c1218-acl-axial-t1-p0.312.jpg\n"
     ]
    }
   ],
   "source": [
    "for mn in model_names:\n",
    "    model = cam.get_model(mn, model_paths[mn], gpu)\n",
    "    \n",
    "    for idx in idxs.values():\n",
    "        img_path = make_save_img(model, vol, idx, case, diagnosis, series, label, output_path)\n",
    "        print(img_path)"
   ]
  }
 ],
 "metadata": {
  "kernelspec": {
   "display_name": "Python 3",
   "language": "python",
   "name": "python3"
  },
  "language_info": {
   "codemirror_mode": {
    "name": "ipython",
    "version": 3
   },
   "file_extension": ".py",
   "mimetype": "text/x-python",
   "name": "python",
   "nbconvert_exporter": "python",
   "pygments_lexer": "ipython3",
   "version": "3.6.6"
  }
 },
 "nbformat": 4,
 "nbformat_minor": 2
}
