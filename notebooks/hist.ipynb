{
 "cells": [
  {
   "cell_type": "code",
   "execution_count": 1,
   "metadata": {},
   "outputs": [
    {
     "data": {
      "text/plain": [
       "'1218.npy'"
      ]
     },
     "execution_count": 1,
     "metadata": {},
     "output_type": "execute_result"
    }
   ],
   "source": [
    "import argparse\n",
    "from collections import Counter\n",
    "import logging\n",
    "import os\n",
    "\n",
    "import cv2\n",
    "import numpy as np\n",
    "import pandas as pd\n",
    "import torch\n",
    "\n",
    "%load_ext autoreload\n",
    "%autoreload 2\n",
    "\n",
    "import sys\n",
    "sys.path.append('/repos/mrnet/scripts')\n",
    "from loader import load_data\n",
    "from model_choice import MODELS\n",
    "import cam\n",
    "\n",
    "diagnosis = 'acl'\n",
    "series = 'axial'\n",
    "model_names = ['MRNet', 'MRNet-Squeeze', 'MRNet-Attend', 'MRNet-SqueezeAttend']\n",
    "model_paths = {\n",
    "    mn: cam.get_model_path(mn, diagnosis, series) for mn in model_names\n",
    "}\n",
    "\n",
    "gpu=False\n",
    "test_loader = cam.get_data(diagnosis, series, gpu)\n",
    "vol, label, case = test_loader.dataset[88]\n",
    "\n",
    "case"
   ]
  },
  {
   "cell_type": "code",
   "execution_count": 31,
   "metadata": {},
   "outputs": [
    {
     "name": "stdout",
     "output_type": "stream",
     "text": [
      "(256,)\n",
      "(512,)\n",
      "(512,)\n",
      "(26,)\n"
     ]
    }
   ],
   "source": [
    "hists = {}\n",
    "for mn in model_names:\n",
    "    n_seq = vol.shape[0]\n",
    "    model = cam.get_model(mn, model_paths[mn], gpu)\n",
    "    x = torch.squeeze(vol, dim=0)  # only batch size 1 supported\n",
    "    features = model.model.features(x)\n",
    "    x = model.gap(features).view(features.size(0), -1)\n",
    "    name = model.__class__.__name__\n",
    "    \n",
    "    if 'Attention' in name:\n",
    "        soft = torch.softmax(model.attention(x), dim=0).data.cpu().numpy().ravel()\n",
    "        print(m.shape)\n",
    "        draws = np.random.multinomial(soft.size, soft)\n",
    "        m = np.concatenate([np.array([i] * draws[i]) for i in range(n_seq)]).ravel()\n",
    "    else:\n",
    "        m = torch.argmax(x, 0).view(-1).data.cpu().numpy()\n",
    "        print(m.shape)\n",
    "    hists[mn] = m"
   ]
  },
  {
   "cell_type": "code",
   "execution_count": 32,
   "metadata": {},
   "outputs": [
    {
     "name": "stdout",
     "output_type": "stream",
     "text": [
      "MRNet: [11 14 23  3 19 19 25 13 11 12 11 20  3 11 23  0 14 11 14 15 11 19  7  6\n",
      "  3 19 19 19  7 11  9 19 12  0 15  8 24  3  7 23 20 19  6 12 19 23 11 25\n",
      " 25  7 24 14 14 13 19 25 11 23 14 11 19  6 19  9  8 19  9 20  4 14 17 19\n",
      "  8  3 14 19  6  7  7 11  4 24  7 23 19 11 14 20  8  6  7 20 14 11 24 14\n",
      " 17 24 19 11  6  3  7 23  5  9  9 14  7  7  3 25 19 24  6 11  8  4 14  0\n",
      "  2 11  8 19 11  7  9  4  5  7  8  8 11 11  5 12  8  2 13 19  9  7 19 11\n",
      " 12 11 12 11  7 19 11  6  7  7 19  8 24  4  4 11  8  8  6  9 11  1 23 11\n",
      "  2  7 14  9 24 11 11 19  8 14 11 12 15 11 25 18 11 23 11 18 19  7  1 13\n",
      " 10  4 19 13 11 11 23 24  9 19  4  9 11 11 14 19 23 11  7  7 11  6 11  7\n",
      "  7 11 13 14 25 19  6 25  8  7  9  6  6  7 19 12 21 19 11 11 19  0 11 12\n",
      " 14 24  9  8  3 15  4  7 18 23  6 24  5  4  9 14]\n",
      "MRNet-Squeeze: [11 11 22 25 21 13  4  7 12  8 11 22  3 24 19 13 11  6 18  4 12 24 18 12\n",
      " 20 11 12  2 24 16  5 11 20  7 24  7 18 22 25 18 20  7  9  6  4 18 11  3\n",
      " 14 25 12 16 10 10 20  2 13  8 24 14 19 24  2  7  0 14  0 20  8 25  7  6\n",
      "  4 17 11  3 11  8 17  5 11 12 11  3 25 12 12  3 24  7 21 21  4 24 22 20\n",
      " 17 11  7 18 11  0  7  7 12 12  0  8 17  5  7 22 24 22  8  4  7 18 24  2\n",
      "  1 12 22  7 12 24 15  5  8  3 12 25 25 20 15 24  7 23 20 24  0 25  7 11\n",
      " 21 18 13  0 24 24 11 12  8 12  3 18 13 24  7  3 14  7 24 24 25 23  9  3\n",
      "  7 14 15 11 13 24 11  7 25  0 24 11  7 17  7  6 21  8  7 12 24 14 16 22\n",
      " 13  3  7  7 24 22  7 13 12  7  0 19 17 23 11 12 24 11  7  0 24 24 20 15\n",
      " 13 12 11 20  0  7  0  8 22  7  7 22 11 22  2  7  0  0  7  8  7  8  7 11\n",
      " 21 13 20 12 14 25  3 24 24  8  6 22 11  1  9 24 11  7  4 12 22 12 10 12\n",
      " 11  4 12 11 14 12  9 12 25 11 24 21 25 11 12 18  6 21 12 12  9  6 12 11\n",
      " 12 11 15 20  7 17  7 24 10  5 12  7  0  7  7  0 12 11 12 16 20 17  4  7\n",
      " 18  7  7 24  0 13 21 24 22  7  7 24  5  6 16  4 24 15 20  7 25  8 24 24\n",
      "  8  7 24  0  7 20  6 18  7 19  0 24 25 18  0  3  7 25  7 12 24  7 24  7\n",
      " 24  4 11 12 12 14 24  3 24 11 21 13  4 17 11  7 24 12 12 11  9 12 12 11\n",
      " 11 12 24 12 25 22 11 11 12 12 24 12 14  8  9 12 17 17 12 20  8  6 12  7\n",
      " 20 20 24  7  7 11 12 25  7  7 11 24  8 19  7 10  9 18 25 11  1 14 19 11\n",
      " 24 11 16  9  7 18 25  7  7  0 11 17  7 19  4 18  1 11  7 11 21 12 25 12\n",
      " 21  7  7 20 25 11 11 11 11 16 18  4 25 12 13  7  7 15 18 12  9 11 21 12\n",
      "  7  4  4  7 18 11 24  7 20 12 24 12 20 10  6  0 18 21  7 13 11  7 24 12\n",
      "  7  7 11  7 12  3  3  5]\n",
      "MRNet-Attend: [ 1.  6.  6.  6.  6.  7.  7.  7.  7.  7.  7.  7.  8. 18. 19. 19. 20. 20.\n",
      " 21. 21. 21. 21. 23. 23. 24. 24.]\n",
      "MRNet-SqueezeAttend: [ 0.  2.  4.  4.  4.  5.  5.  6.  6.  6.  7.  7.  7.  7.  7.  7.  8.  8.\n",
      "  8.  9. 10. 10. 11. 12. 12. 15.]\n"
     ]
    }
   ],
   "source": [
    "for mn in model_names:\n",
    "    print('{}: {}'.format(mn, hists[mn]))"
   ]
  },
  {
   "cell_type": "code",
   "execution_count": 24,
   "metadata": {},
   "outputs": [],
   "source": [
    "import seaborn as sns\n",
    "import matplotlib.pyplot as plt"
   ]
  },
  {
   "cell_type": "code",
   "execution_count": 29,
   "metadata": {},
   "outputs": [
    {
     "name": "stderr",
     "output_type": "stream",
     "text": [
      "/usr/local/anaconda/lib/python3.6/site-packages/scipy/stats/stats.py:1706: FutureWarning: Using a non-tuple sequence for multidimensional indexing is deprecated; use `arr[tuple(seq)]` instead of `arr[seq]`. In the future this will be interpreted as an array index, `arr[np.array(seq)]`, which will result either in an error or a different result.\n",
      "  return np.add.reduce(sorted[indexer] * weights, axis=axis) / sumval\n"
     ]
    },
    {
     "data": {
      "image/png": "[encoded data removed]",
      "text/plain": [
       "<Figure size 432x288 with 1 Axes>"
      ]
     },
     "metadata": {},
     "output_type": "display_data"
    }
   ],
   "source": [
    "for mn in model_names:\n",
    "    sns.distplot(hists[mn], label=mn, kde=False)\n",
    "plt.legend();"
   ]
  }
 ],
 "metadata": {
  "kernelspec": {
   "display_name": "Python 3",
   "language": "python",
   "name": "python3"
  },
  "language_info": {
   "codemirror_mode": {
    "name": "ipython",
    "version": 3
   },
   "file_extension": ".py",
   "mimetype": "text/x-python",
   "name": "python",
   "nbconvert_exporter": "python",
   "pygments_lexer": "ipython3",
   "version": "3.6.6"
  }
 },
 "nbformat": 4,
 "nbformat_minor": 2
}
