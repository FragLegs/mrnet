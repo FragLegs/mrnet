{
 "cells": [
  {
   "cell_type": "code",
   "execution_count": 1,
   "metadata": {},
   "outputs": [],
   "source": [
    "import argparse\n",
    "from collections import Counter\n",
    "import logging\n",
    "import os\n",
    "\n",
    "import cv2\n",
    "import numpy as np\n",
    "import pandas as pd\n",
    "import torch"
   ]
  },
  {
   "cell_type": "code",
   "execution_count": 2,
   "metadata": {},
   "outputs": [],
   "source": [
    "%load_ext autoreload\n",
    "%autoreload 2"
   ]
  },
  {
   "cell_type": "code",
   "execution_count": 3,
   "metadata": {},
   "outputs": [],
   "source": [
    "import sys\n",
    "sys.path.append('/repos/mrnet/scripts')\n",
    "from loader import load_data\n",
    "from model_choice import MODELS\n",
    "import cam as pycam"
   ]
  },
  {
   "cell_type": "code",
   "execution_count": 7,
   "metadata": {},
   "outputs": [],
   "source": [
    "import loader3"
   ]
  },
  {
   "cell_type": "code",
   "execution_count": 8,
   "metadata": {},
   "outputs": [],
   "source": [
    "# get case IDs\n",
    "paths = pd.read_csv(\n",
    "    '/mnt/mrnet-image-paths.csv', header=None, names=['path']\n",
    ").path.values\n",
    "path_df = loader3.paths_to_df(paths)\n",
    "label_df = pd.read_csv('/mnt/mrnet-labels-3way.csv', index_col=0)\n",
    "acl_test = loader3.Dataset(\n",
    "    path_df=path_df, diagnosis='acl', label_df=label_df[label_df.split == 'test'], use_gpu=False\n",
    ")\n",
    "meniscus_test = loader3.Dataset(\n",
    "    path_df=path_df, diagnosis='meniscus', label_df=label_df[label_df.split == 'test'], use_gpu=False\n",
    ")"
   ]
  },
  {
   "cell_type": "code",
   "execution_count": 4,
   "metadata": {},
   "outputs": [],
   "source": [
    "# Compare MRNet and SqueezeAttend on ACL (MRNet is better)"
   ]
  },
  {
   "cell_type": "code",
   "execution_count": 9,
   "metadata": {},
   "outputs": [
    {
     "data": {
      "text/html": [
       "<div>\n",
       "<style scoped>\n",
       "    .dataframe tbody tr th:only-of-type {\n",
       "        vertical-align: middle;\n",
       "    }\n",
       "\n",
       "    .dataframe tbody tr th {\n",
       "        vertical-align: top;\n",
       "    }\n",
       "\n",
       "    .dataframe thead th {\n",
       "        text-align: right;\n",
       "    }\n",
       "</style>\n",
       "<table border=\"1\" class=\"dataframe\">\n",
       "  <thead>\n",
       "    <tr style=\"text-align: right;\">\n",
       "      <th></th>\n",
       "      <th>abnormal</th>\n",
       "      <th>abnormal_truth</th>\n",
       "      <th>acl</th>\n",
       "      <th>acl_truth</th>\n",
       "      <th>meniscus</th>\n",
       "      <th>meniscus_truth</th>\n",
       "    </tr>\n",
       "  </thead>\n",
       "  <tbody>\n",
       "    <tr>\n",
       "      <th>0</th>\n",
       "      <td>0.230255</td>\n",
       "      <td>0.0</td>\n",
       "      <td>0.096320</td>\n",
       "      <td>0.0</td>\n",
       "      <td>0.137780</td>\n",
       "      <td>0.0</td>\n",
       "    </tr>\n",
       "    <tr>\n",
       "      <th>1</th>\n",
       "      <td>0.291873</td>\n",
       "      <td>0.0</td>\n",
       "      <td>0.125888</td>\n",
       "      <td>0.0</td>\n",
       "      <td>0.200391</td>\n",
       "      <td>0.0</td>\n",
       "    </tr>\n",
       "    <tr>\n",
       "      <th>2</th>\n",
       "      <td>0.363111</td>\n",
       "      <td>0.0</td>\n",
       "      <td>0.258895</td>\n",
       "      <td>0.0</td>\n",
       "      <td>0.180650</td>\n",
       "      <td>0.0</td>\n",
       "    </tr>\n",
       "    <tr>\n",
       "      <th>3</th>\n",
       "      <td>0.201513</td>\n",
       "      <td>0.0</td>\n",
       "      <td>0.144357</td>\n",
       "      <td>0.0</td>\n",
       "      <td>0.122091</td>\n",
       "      <td>0.0</td>\n",
       "    </tr>\n",
       "    <tr>\n",
       "      <th>4</th>\n",
       "      <td>0.500530</td>\n",
       "      <td>0.0</td>\n",
       "      <td>0.146775</td>\n",
       "      <td>0.0</td>\n",
       "      <td>0.275603</td>\n",
       "      <td>0.0</td>\n",
       "    </tr>\n",
       "  </tbody>\n",
       "</table>\n",
       "</div>"
      ],
      "text/plain": [
       "   abnormal  abnormal_truth       acl  acl_truth  meniscus  meniscus_truth\n",
       "0  0.230255             0.0  0.096320        0.0  0.137780             0.0\n",
       "1  0.291873             0.0  0.125888        0.0  0.200391             0.0\n",
       "2  0.363111             0.0  0.258895        0.0  0.180650             0.0\n",
       "3  0.201513             0.0  0.144357        0.0  0.122091             0.0\n",
       "4  0.500530             0.0  0.146775        0.0  0.275603             0.0"
      ]
     },
     "execution_count": 9,
     "metadata": {},
     "output_type": "execute_result"
    }
   ],
   "source": [
    "mrnet_preds = pd.read_csv('/mnt/ensemble_preds/MRNet_ensemble_preds.csv')\n",
    "mrnet_preds.head()"
   ]
  },
  {
   "cell_type": "code",
   "execution_count": 11,
   "metadata": {},
   "outputs": [
    {
     "data": {
      "text/html": [
       "<div>\n",
       "<style scoped>\n",
       "    .dataframe tbody tr th:only-of-type {\n",
       "        vertical-align: middle;\n",
       "    }\n",
       "\n",
       "    .dataframe tbody tr th {\n",
       "        vertical-align: top;\n",
       "    }\n",
       "\n",
       "    .dataframe thead th {\n",
       "        text-align: right;\n",
       "    }\n",
       "</style>\n",
       "<table border=\"1\" class=\"dataframe\">\n",
       "  <thead>\n",
       "    <tr style=\"text-align: right;\">\n",
       "      <th></th>\n",
       "      <th>abnormal</th>\n",
       "      <th>abnormal_truth</th>\n",
       "      <th>acl</th>\n",
       "      <th>acl_truth</th>\n",
       "      <th>meniscus</th>\n",
       "      <th>meniscus_truth</th>\n",
       "    </tr>\n",
       "  </thead>\n",
       "  <tbody>\n",
       "    <tr>\n",
       "      <th>0</th>\n",
       "      <td>0.268497</td>\n",
       "      <td>0.0</td>\n",
       "      <td>0.269940</td>\n",
       "      <td>0.0</td>\n",
       "      <td>0.137336</td>\n",
       "      <td>0.0</td>\n",
       "    </tr>\n",
       "    <tr>\n",
       "      <th>1</th>\n",
       "      <td>0.241913</td>\n",
       "      <td>0.0</td>\n",
       "      <td>0.148453</td>\n",
       "      <td>0.0</td>\n",
       "      <td>0.171623</td>\n",
       "      <td>0.0</td>\n",
       "    </tr>\n",
       "    <tr>\n",
       "      <th>2</th>\n",
       "      <td>0.384587</td>\n",
       "      <td>0.0</td>\n",
       "      <td>0.339400</td>\n",
       "      <td>0.0</td>\n",
       "      <td>0.153698</td>\n",
       "      <td>0.0</td>\n",
       "    </tr>\n",
       "    <tr>\n",
       "      <th>3</th>\n",
       "      <td>0.233304</td>\n",
       "      <td>0.0</td>\n",
       "      <td>0.158560</td>\n",
       "      <td>0.0</td>\n",
       "      <td>0.127077</td>\n",
       "      <td>0.0</td>\n",
       "    </tr>\n",
       "    <tr>\n",
       "      <th>4</th>\n",
       "      <td>0.627901</td>\n",
       "      <td>0.0</td>\n",
       "      <td>0.228260</td>\n",
       "      <td>0.0</td>\n",
       "      <td>0.310481</td>\n",
       "      <td>0.0</td>\n",
       "    </tr>\n",
       "  </tbody>\n",
       "</table>\n",
       "</div>"
      ],
      "text/plain": [
       "   abnormal  abnormal_truth       acl  acl_truth  meniscus  meniscus_truth\n",
       "0  0.268497             0.0  0.269940        0.0  0.137336             0.0\n",
       "1  0.241913             0.0  0.148453        0.0  0.171623             0.0\n",
       "2  0.384587             0.0  0.339400        0.0  0.153698             0.0\n",
       "3  0.233304             0.0  0.158560        0.0  0.127077             0.0\n",
       "4  0.627901             0.0  0.228260        0.0  0.310481             0.0"
      ]
     },
     "execution_count": 11,
     "metadata": {},
     "output_type": "execute_result"
    }
   ],
   "source": [
    "sa_preds = pd.read_csv('/mnt/ensemble_preds/MRNet-SqueezeAttend_ensemble_preds.csv')\n",
    "sa_preds.head()"
   ]
  },
  {
   "cell_type": "code",
   "execution_count": 17,
   "metadata": {},
   "outputs": [
    {
     "name": "stdout",
     "output_type": "stream",
     "text": [
      "5\n",
      "2\n",
      "49\n",
      "46\n"
     ]
    }
   ],
   "source": [
    "acl_mrnet_correct = ((mrnet_preds.acl > 0.5) & (mrnet_preds.acl_truth == 1.0))\n",
    "acl_sa_correct = ((sa_preds.acl > 0.5) & (sa_preds.acl_truth == 1.0))\n",
    "acl_mrnet_miss = ((mrnet_preds.acl < 0.5) & (mrnet_preds.acl_truth == 1.0))\n",
    "acl_sa_miss = ((sa_preds.acl < 0.5) & (sa_preds.acl_truth == 1.0))\n",
    "\n",
    "print((acl_mrnet_correct & acl_sa_miss).sum())\n",
    "print((acl_mrnet_miss & acl_sa_correct).sum())\n",
    "print(acl_mrnet_correct.sum())\n",
    "print(acl_sa_correct.sum())"
   ]
  },
  {
   "cell_type": "code",
   "execution_count": 18,
   "metadata": {},
   "outputs": [
    {
     "name": "stdout",
     "output_type": "stream",
     "text": [
      "    abnormal  abnormal_truth       acl  acl_truth  meniscus  meniscus_truth\n",
      "43  0.928853             1.0  0.535112        1.0  0.470455             1.0\n",
      "48  0.897948             1.0  0.753139        1.0  0.436394             0.0\n",
      "66  0.954080             1.0  0.751383        1.0  0.716080             1.0\n",
      "88  0.849023             1.0  0.589246        1.0  0.398551             0.0\n",
      "98  0.839466             1.0  0.625173        1.0  0.707827             1.0\n",
      "    abnormal  abnormal_truth       acl  acl_truth  meniscus  meniscus_truth\n",
      "43  0.900401             1.0  0.299918        1.0  0.360570             1.0\n",
      "48  0.883354             1.0  0.462831        1.0  0.541787             0.0\n",
      "66  0.936284             1.0  0.498084        1.0  0.683574             1.0\n",
      "88  0.780792             1.0  0.327571        1.0  0.262455             0.0\n",
      "98  0.880340             1.0  0.422807        1.0  0.753436             1.0\n"
     ]
    }
   ],
   "source": [
    "print(mrnet_preds[acl_mrnet_correct & acl_sa_miss])\n",
    "print(sa_preds[acl_mrnet_correct & acl_sa_miss])"
   ]
  },
  {
   "cell_type": "code",
   "execution_count": 19,
   "metadata": {},
   "outputs": [],
   "source": [
    "# 88 looks good"
   ]
  },
  {
   "cell_type": "code",
   "execution_count": 20,
   "metadata": {},
   "outputs": [
    {
     "data": {
      "text/plain": [
       "'1218.npy'"
      ]
     },
     "execution_count": 20,
     "metadata": {},
     "output_type": "execute_result"
    }
   ],
   "source": [
    "acl_test.cases[88]"
   ]
  },
  {
   "cell_type": "code",
   "execution_count": 21,
   "metadata": {},
   "outputs": [],
   "source": [
    "vols, label, case = acl_test[88]\n",
    "axial, coronal, sagittal = vols"
   ]
  },
  {
   "cell_type": "code",
   "execution_count": 23,
   "metadata": {},
   "outputs": [
    {
     "data": {
      "text/plain": [
       "tensor([1.])"
      ]
     },
     "execution_count": 23,
     "metadata": {},
     "output_type": "execute_result"
    }
   ],
   "source": [
    "label"
   ]
  },
  {
   "cell_type": "code",
   "execution_count": null,
   "metadata": {},
   "outputs": [],
   "source": []
  },
  {
   "cell_type": "code",
   "execution_count": 5,
   "metadata": {},
   "outputs": [],
   "source": [
    "# Compare MTNet and SqueezeAttend on Meniscus (SqueezeAttend is better)"
   ]
  }
 ],
 "metadata": {
  "kernelspec": {
   "display_name": "Python 3",
   "language": "python",
   "name": "python3"
  },
  "language_info": {
   "codemirror_mode": {
    "name": "ipython",
    "version": 3
   },
   "file_extension": ".py",
   "mimetype": "text/x-python",
   "name": "python",
   "nbconvert_exporter": "python",
   "pygments_lexer": "ipython3",
   "version": "3.6.6"
  }
 },
 "nbformat": 4,
 "nbformat_minor": 2
}
